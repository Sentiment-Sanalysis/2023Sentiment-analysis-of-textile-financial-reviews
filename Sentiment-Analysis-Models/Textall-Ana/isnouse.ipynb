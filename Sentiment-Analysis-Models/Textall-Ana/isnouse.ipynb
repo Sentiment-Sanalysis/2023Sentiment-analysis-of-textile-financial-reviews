{
 "cells": [
  {
   "cell_type": "code",
   "execution_count": 2,
   "metadata": {},
   "outputs": [],
   "source": [
    "from sklearn.model_selection import train_test_split\n",
    "import numpy as np\n",
    "import pandas as pd\n",
    "import jieba as jb\n",
    "#from sklearn.externals import joblib\n",
    "from sklearn.svm import SVC\n",
    "from gensim.models.word2vec import Word2Vec\n"
   ]
  },
  {
   "cell_type": "code",
   "execution_count": 31,
   "metadata": {},
   "outputs": [
    {
     "name": "stdout",
     "output_type": "stream",
     "text": [
      "                                          evaluation\n",
      "0                                    用了一段时间，感觉还不错，可以\n",
      "1  电视非常好，已经是家里的第二台了。第一天下单，第二天就到本地了，可是物流的人说车坏了，一直催...\n",
      "2                  电视比想象中的大好多，画面也很清晰，系统很智能，更多功能还在摸索中\n",
      "3                                                 不错\n",
      "4     用了这么多天了，感觉还不错。夏普的牌子还是比较可靠。希望以后比较耐用，现在是考量质量的时候。\n",
      "                                             evaluation\n",
      "2124                           买的第二个微鲸电视了，质量挺好的，就是涨价太快了\n",
      "4275                           电视质量不知道，反正没给我送货入户，客服也没人理\n",
      "1021  65的屏幕大，三星的屏，用测屏软件测试屏幕无亮点，色彩还原度高。接有线电视机顶盒看电视效果非...\n",
      "3079                                  爸妈说很好?礼包还没到，暂时没挂壁\n",
      "2605                    电器的价格变化太大，不过32太厚了，送父母吧，自己换投影仪去的\n",
      "...                                                 ...\n",
      "1033                 电视已经收到，安装送货很快，师傅态度也很好，画质很清晰，总体都很满意\n",
      "3264  三年内是不希望用上这个保险，不过这个微鲸质量确实是存在问题的，用了半年不到屏黑了一半，现在这...\n",
      "1653  应该说京东还是值得信赖的，电视跟心想象的效果差不多，送货也比较及时，特别要给安装师傅赞一个，...\n",
      "2607  发货快，送货上门，当场拆箱验屏幕；小米刚出了32寸1099元，最近降100元，但是要预约，所...\n",
      "2732  微鲸电视就那个样，语音遥控器到现在不能正常使用，和店铺联系，店铺让去给售后打电话，看看我跟售...\n",
      "\n",
      "[3426 rows x 1 columns]\n"
     ]
    }
   ],
   "source": [
    "import multiprocessing\n",
    "import jieba\n",
    "from gensim.models import Word2Vec\n",
    "from gensim.models.word2vec import LineSentence\n",
    "# 数据读取evaluation列\n",
    "X = pd.read_csv('data.csv', encoding='utf-8', usecols=['evaluation'])\n",
    "\n",
    "print(X.head(5))\n",
    "\n",
    "# 数据读取label列\n",
    "y = pd.read_csv('data.csv', encoding='utf-8', usecols=['label'])\n",
    "\n",
    "# \n",
    "output = open(\"res_dep.txt\", \"w\", encoding='utf8')\n",
    "stopwords_path = r\"./stopwords.txt\"\n",
    " \n",
    "stop_list = []\n",
    "with open(stopwords_path, \"r\", encoding=\"utf-8\") as f:\n",
    "    for line in f.readlines():\n",
    "        stop_list.append(line.replace(\"  \\n\", \"\"))\n",
    "        \n",
    "count = 0\n",
    "for index, row in X.iterrows():\n",
    "    words = jieba.cut(row['evaluation'])\n",
    "    for word in words:\n",
    "        # print(word)\n",
    "        if word not in stop_list:\n",
    "            output.write(word + \" \")\n",
    "        else:\n",
    "            print(word)\n",
    "    output.write('\\n')\n",
    "\n",
    "# 向量化\n",
    "inp = \"res_dep.txt\"\n",
    "oup1= \"model\"\n",
    "oup2 = \"data_vector\"\n",
    "# 训练模型\n",
    "model = Word2Vec(LineSentence(inp), vector_size=50, window=5, min_count=5, workers=multiprocessing.cpu_count())\n",
    "# 保存模型\n",
    "model.save(oup1)\n",
    "# 保存词向量\n",
    "model.wv.save_word2vec_format(oup2, binary=False)\n",
    "\n",
    "# 机器学习分类器\n",
    "clf = SVC(kernel='rbf', probability=True)\n",
    "# 训练集和测试集划分\n",
    "X_train, X_test, y_train, y_test = train_test_split(X, y, test_size=0.2, random_state=0)\n",
    "\n"
   ]
  },
  {
   "cell_type": "code",
   "execution_count": 4,
   "metadata": {},
   "outputs": [
    {
     "name": "stderr",
     "output_type": "stream",
     "text": [
      "Building prefix dict from the default dictionary ...\n",
      "Loading model from cache C:\\Users\\wangzihan\\AppData\\Local\\Temp\\jieba.cache\n",
      "Loading model cost 0.616 seconds.\n",
      "Prefix dict has been built successfully.\n"
     ]
    }
   ],
   "source": [
    "#对句子中的所有词向量取均值，来生成一个句子的vec\n",
    "def build_vector(text,size,wv):\n",
    "    #创建一个指定大小的数据空间\n",
    "    vec = np.zeros(size).reshape((1,size))\n",
    "    #count是统计有多少词向量\n",
    "    count = 0\n",
    "    #循环所有的词向量进行求和\n",
    "    for w in text:\n",
    "        try:\n",
    "            vec +=  wv[w].reshape((1,size))\n",
    "            count +=1\n",
    "        except:\n",
    "            continue\n",
    "        \n",
    "    #循环完成后求均值\n",
    "    if count!=0:\n",
    "        vec/=count\n",
    "    return vec\n",
    "\n",
    "\n",
    "#分词\n",
    "X_train1 = [jb.lcut(x) for x in X_train.evaluation]\n",
    "X_test1 = [jb.lcut(x) for x in X_test.evaluation]\n",
    "\n",
    "\n",
    "#初始化模型和词表\n",
    "wv = Word2Vec(vector_size=300,min_count=10)\n",
    "wv.build_vocab(X_train1)\n",
    "\n",
    "# 训练并建模\n",
    "wv.train(X_train1,epochs=1,total_examples=1)\n",
    "#获取train_vecs\n",
    "train_vecs = np.concatenate([build_vector(z,300,wv) for z in X_train1])\n",
    "#保存处理后的词向量\n",
    "np.save('data/train_vecs.npy',train_vecs)\n",
    "#保存模型\n",
    "wv.save(\"data/model3.model\")\n",
    "\n",
    "wv.train(X_test1,total_examples=1, epochs=1)\n",
    "test_vecs = np.concatenate([build_vector(z,300,wv) for z in X_test1])\n",
    "np.save('data/test_vecs.npy',test_vecs)\n"
   ]
  },
  {
   "cell_type": "code",
   "execution_count": 5,
   "metadata": {},
   "outputs": [
    {
     "name": "stderr",
     "output_type": "stream",
     "text": [
      "c:\\Users\\wangzihan\\AppData\\Local\\Programs\\Python\\Python36\\lib\\site-packages\\sklearn\\utils\\validation.py:63: DataConversionWarning: A column-vector y was passed when a 1d array was expected. Please change the shape of y to (n_samples, ), for example using ravel().\n",
      "  return f(*args, **kwargs)\n"
     ]
    },
    {
     "name": "stdout",
     "output_type": "stream",
     "text": [
      "[LibSVM]              precision    recall  f1-score   support\n",
      "\n",
      "           0       0.54      1.00      0.70       460\n",
      "           1       0.00      0.00      0.00       397\n",
      "\n",
      "    accuracy                           0.54       857\n",
      "   macro avg       0.27      0.50      0.35       857\n",
      "weighted avg       0.29      0.54      0.37       857\n",
      "\n"
     ]
    },
    {
     "name": "stderr",
     "output_type": "stream",
     "text": [
      "c:\\Users\\wangzihan\\AppData\\Local\\Programs\\Python\\Python36\\lib\\site-packages\\sklearn\\metrics\\_classification.py:1248: UndefinedMetricWarning: Precision and F-score are ill-defined and being set to 0.0 in labels with no predicted samples. Use `zero_division` parameter to control this behavior.\n",
      "  _warn_prf(average, modifier, msg_start, len(result))\n",
      "c:\\Users\\wangzihan\\AppData\\Local\\Programs\\Python\\Python36\\lib\\site-packages\\sklearn\\metrics\\_classification.py:1248: UndefinedMetricWarning: Precision and F-score are ill-defined and being set to 0.0 in labels with no predicted samples. Use `zero_division` parameter to control this behavior.\n",
      "  _warn_prf(average, modifier, msg_start, len(result))\n",
      "c:\\Users\\wangzihan\\AppData\\Local\\Programs\\Python\\Python36\\lib\\site-packages\\sklearn\\metrics\\_classification.py:1248: UndefinedMetricWarning: Precision and F-score are ill-defined and being set to 0.0 in labels with no predicted samples. Use `zero_division` parameter to control this behavior.\n",
      "  _warn_prf(average, modifier, msg_start, len(result))\n"
     ]
    }
   ],
   "source": [
    "# 训练SVM模型\n",
    "\n",
    "import joblib\n",
    "from sklearn.metrics import classification_report\n",
    "\n",
    "\n",
    "clf = SVC(kernel='rbf', verbose=True)\n",
    "\n",
    "clf.fit(train_vecs, y_train)\n",
    "\n",
    "# 保存模型\n",
    "\n",
    "joblib.dump(clf, 'data/svm_model.model')\n",
    "\n",
    "# 评估模型\n",
    "\n",
    "\n",
    "print(classification_report(y_test, clf.predict(test_vecs)))"
   ]
  },
  {
   "cell_type": "code",
   "execution_count": null,
   "metadata": {},
   "outputs": [],
   "source": [
    "X_train2 = [jb.lcut(x) for x in X_train.evaluation]\n",
    "X_test2 = [jb.lcut(x) for x in X_test.evaluation]\n",
    "\n"
   ]
  },
  {
   "cell_type": "code",
   "execution_count": 10,
   "metadata": {},
   "outputs": [
    {
     "name": "stdout",
     "output_type": "stream",
     "text": [
      "      label\n",
      "2771      0\n",
      "1983      0\n",
      "1042      1\n",
      "1519      1\n",
      "1825      1\n",
      "...     ...\n",
      "1696      1\n",
      "533       1\n",
      "124       1\n",
      "998       1\n",
      "1702      1\n",
      "\n",
      "[857 rows x 1 columns]\n",
      "              precision    recall  f1-score   support\n",
      "\n",
      "           0       0.54      1.00      0.70       460\n",
      "           1       0.00      0.00      0.00       397\n",
      "\n",
      "    accuracy                           0.54       857\n",
      "   macro avg       0.27      0.50      0.35       857\n",
      "weighted avg       0.29      0.54      0.37       857\n",
      "\n"
     ]
    },
    {
     "name": "stderr",
     "output_type": "stream",
     "text": [
      "c:\\Users\\wangzihan\\AppData\\Local\\Programs\\Python\\Python36\\lib\\site-packages\\sklearn\\utils\\validation.py:63: DataConversionWarning: A column-vector y was passed when a 1d array was expected. Please change the shape of y to (n_samples, ), for example using ravel().\n",
      "  return f(*args, **kwargs)\n",
      "c:\\Users\\wangzihan\\AppData\\Local\\Programs\\Python\\Python36\\lib\\site-packages\\sklearn\\metrics\\_classification.py:1248: UndefinedMetricWarning: Precision and F-score are ill-defined and being set to 0.0 in labels with no predicted samples. Use `zero_division` parameter to control this behavior.\n",
      "  _warn_prf(average, modifier, msg_start, len(result))\n",
      "c:\\Users\\wangzihan\\AppData\\Local\\Programs\\Python\\Python36\\lib\\site-packages\\sklearn\\metrics\\_classification.py:1248: UndefinedMetricWarning: Precision and F-score are ill-defined and being set to 0.0 in labels with no predicted samples. Use `zero_division` parameter to control this behavior.\n",
      "  _warn_prf(average, modifier, msg_start, len(result))\n",
      "c:\\Users\\wangzihan\\AppData\\Local\\Programs\\Python\\Python36\\lib\\site-packages\\sklearn\\metrics\\_classification.py:1248: UndefinedMetricWarning: Precision and F-score are ill-defined and being set to 0.0 in labels with no predicted samples. Use `zero_division` parameter to control this behavior.\n",
      "  _warn_prf(average, modifier, msg_start, len(result))\n"
     ]
    }
   ],
   "source": [
    "from sklearn.naive_bayes import MultinomialNB\n",
    "nb = MultinomialNB()\n",
    "\n",
    "nb.fit(train_vecs, y_train)\n",
    "\n",
    "# 保存模型\n",
    "\n",
    "joblib.dump(nb, 'data/nb_model.model')\n",
    "\n",
    "# 评估模型\n",
    "\n",
    "print(y_test)\n",
    "\n",
    "print(classification_report(y_test, nb.predict(test_vecs)))\n"
   ]
  }
 ],
 "metadata": {
  "kernelspec": {
   "display_name": "Python 3",
   "language": "python",
   "name": "python3"
  },
  "language_info": {
   "codemirror_mode": {
    "name": "ipython",
    "version": 3
   },
   "file_extension": ".py",
   "mimetype": "text/x-python",
   "name": "python",
   "nbconvert_exporter": "python",
   "pygments_lexer": "ipython3",
   "version": "3.6.8"
  },
  "orig_nbformat": 4,
  "vscode": {
   "interpreter": {
    "hash": "620e10979616b52f04cdcf4a5cffe0fe63efdd1be74bc8cf9c3e328745c0831f"
   }
  }
 },
 "nbformat": 4,
 "nbformat_minor": 2
}
