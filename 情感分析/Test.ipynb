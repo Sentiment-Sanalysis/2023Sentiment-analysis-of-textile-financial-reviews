{
 "cells": [
  {
   "attachments": {},
   "cell_type": "markdown",
   "metadata": {},
   "source": [
    "文件上传"
   ]
  },
  {
   "cell_type": "code",
   "execution_count": null,
   "metadata": {},
   "outputs": [],
   "source": [
    "import os\n",
    "\n",
    "app = Flask(__name__)\n",
    "app.config['UPLOAD_FOLDER'] = 'upload/'\n",
    "\n",
    "@app.route('/upload')\n",
    "def upload_file():\n",
    "    return render_template('upload.html')\n",
    "\n",
    "@app.route('/uploader',methods=['GET','POST'])\n",
    "def uploader():\n",
    "    if request.method == 'POST':\n",
    "        f = request.files['file']\n",
    "        print(request.files)\n",
    "        f.save(os.path.join(app.config['UPLOAD_FOLDER'], secure_filename(f.filename)))\n",
    "\n",
    "        return 'file uploaded successfully'\n",
    "\n",
    "    else:\n",
    "\n",
    "        return render_template('upload.html')\n",
    "\n",
    "if __name__ == '__main__':\n",
    "   app.run(debug=True)"
   ]
  },
  {
   "cell_type": "code",
   "execution_count": null,
   "metadata": {},
   "outputs": [],
   "source": [
    "<html>\n",
    "<head>\n",
    "  <title>File Upload</title>\n",
    "</head>\n",
    "<body>\n",
    "    <form action=\"http://localhost:5000/uploader\" method=\"POST\" enctype=\"multipart/form-data\">\n",
    "        <input type=\"file\" name=\"file\"  />\n",
    "        <input type=\"submit\" value=\"提交\" />\n",
    "    </form>\n",
    "</body>\n",
    "</html>\n"
   ]
  },
  {
   "attachments": {},
   "cell_type": "markdown",
   "metadata": {},
   "source": [
    "**************"
   ]
  },
  {
   "cell_type": "markdown",
   "metadata": {},
   "source": []
  },
  {
   "cell_type": "code",
   "execution_count": null,
   "metadata": {},
   "outputs": [],
   "source": []
  },
  {
   "cell_type": "markdown",
   "metadata": {},
   "source": []
  },
  {
   "cell_type": "code",
   "execution_count": null,
   "metadata": {},
   "outputs": [],
   "source": []
  }
 ],
 "metadata": {
  "kernelspec": {
   "display_name": "Python 3",
   "language": "python",
   "name": "python3"
  },
  "language_info": {
   "codemirror_mode": {
    "name": "ipython",
    "version": 3
   },
   "file_extension": ".py",
   "mimetype": "text/x-python",
   "name": "python",
   "nbconvert_exporter": "python",
   "pygments_lexer": "ipython3",
   "version": "3.6.8 (tags/v3.6.8:3c6b436a57, Dec 24 2018, 00:16:47) [MSC v.1916 64 bit (AMD64)]"
  },
  "orig_nbformat": 4,
  "vscode": {
   "interpreter": {
    "hash": "620e10979616b52f04cdcf4a5cffe0fe63efdd1be74bc8cf9c3e328745c0831f"
   }
  }
 },
 "nbformat": 4,
 "nbformat_minor": 2
}
